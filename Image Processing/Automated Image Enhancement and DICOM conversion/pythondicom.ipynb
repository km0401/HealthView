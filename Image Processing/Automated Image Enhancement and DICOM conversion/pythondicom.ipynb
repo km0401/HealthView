{
 "cells": [
  {
   "cell_type": "code",
   "execution_count": 1,
   "id": "a6073e6d",
   "metadata": {},
   "outputs": [],
   "source": [
    "import pydicom"
   ]
  },
  {
   "cell_type": "code",
   "execution_count": 2,
   "id": "94aa93f7",
   "metadata": {},
   "outputs": [],
   "source": [
    "\n",
    "dcm_file = pydicom.dcmread('/Users/aditigoel/Downloads/54879843/DICOM/Doe^Pierre [54879843]/20060101 000000 [ - CRANE POLYGONE]/Series 001 [CT - Scout Profil]/image1.dcm')"
   ]
  },
  {
   "cell_type": "code",
   "execution_count": 3,
   "id": "b2886871",
   "metadata": {},
   "outputs": [
    {
     "name": "stdout",
     "output_type": "stream",
     "text": [
      "Doe^Pierre\n"
     ]
    }
   ],
   "source": [
    "print(dcm_file.PatientName)"
   ]
  },
  {
   "cell_type": "code",
   "execution_count": 4,
   "id": "0f1eca61",
   "metadata": {},
   "outputs": [
    {
     "data": {
      "text/plain": [
       "<matplotlib.image.AxesImage at 0x7f967ad8c820>"
      ]
     },
     "execution_count": 4,
     "metadata": {},
     "output_type": "execute_result"
    },
    {
     "data": {
      "image/png": "[encoded data removed]",
      "text/plain": [
       "<Figure size 432x288 with 1 Axes>"
      ]
     },
     "metadata": {
      "needs_background": "light"
     },
     "output_type": "display_data"
    }
   ],
   "source": [
    "#to display the DICOM image using a grayscale colormap.\n",
    "import matplotlib.pyplot as plt\n",
    "plt.imshow(dcm_file.pixel_array, cmap=plt.cm.gray)"
   ]
  },
  {
   "cell_type": "code",
   "execution_count": 5,
   "id": "15eab4c8",
   "metadata": {},
   "outputs": [
    {
     "name": "stdout",
     "output_type": "stream",
     "text": [
      "Dataset.file_meta -------------------------------\n",
      "(0002, 0000) File Meta Information Group Length  UL: 216\n",
      "(0002, 0001) File Meta Information Version       OB: b'\\x00\\x01'\n",
      "(0002, 0002) Media Storage SOP Class UID         UI: CT Image Storage\n",
      "(0002, 0003) Media Storage SOP Instance UID      UI: 1.3.6.1.4.1.5962.99.1.2786334768.1849416866.1385765836848.2.0\n",
      "(0002, 0010) Transfer Syntax UID                 UI: Explicit VR Little Endian\n",
      "(0002, 0012) Implementation Class UID            UI: 1.3.6.1.4.1.5962.99.2\n",
      "(0002, 0013) Implementation Version Name         SH: 'PIXELMEDJAVA001'\n",
      "(0002, 0016) Source Application Entity Title     AE: 'CLEANER'\n",
      "-------------------------------------------------\n",
      "(0008, 0008) Image Type                          CS: ['ORIGINAL', 'PRIMARY', 'LOCALIZER']\n",
      "(0008, 0012) Instance Creation Date              DA: '20060101'\n",
      "(0008, 0013) Instance Creation Time              TM: '000023.000'\n",
      "(0008, 0016) SOP Class UID                       UI: CT Image Storage\n",
      "(0008, 0018) SOP Instance UID                    UI: 1.3.6.1.4.1.5962.99.1.2786334768.1849416866.1385765836848.2.0\n",
      "(0008, 0020) Study Date                          DA: '20060101'\n",
      "(0008, 0021) Series Date                         DA: '20060101'\n",
      "(0008, 0022) Acquisition Date                    DA: '20060101'\n",
      "(0008, 0023) Content Date                        DA: '20060101'\n",
      "(0008, 0030) Study Time                          TM: '000000.000'\n",
      "(0008, 0031) Series Time                         TM: '000000.000'\n",
      "(0008, 0032) Acquisition Time                    TM: '000020.000'\n",
      "(0008, 0033) Content Time                        TM: '000023.000'\n",
      "(0008, 0050) Accession Number                    SH: '54879843'\n",
      "(0008, 0060) Modality                            CS: 'CT'\n",
      "(0008, 0070) Manufacturer                        LO: 'GE MEDICAL SYSTEMS'\n",
      "(0008, 0090) Referring Physician's Name          PN: ''\n",
      "(0008, 1030) Study Description                   LO: 'CRANE+POLYGONE'\n",
      "(0008, 103e) Series Description                  LO: 'Scout Profil'\n",
      "(0008, 1090) Manufacturer's Model Name           LO: 'LightSpeed Pro 32'\n",
      "(0009, 0010) Private Creator                     LO: 'GEMS_IDEN_01'\n",
      "(0009, 1001) [Full fidelity]                     LO: 'CT_LIGHTSPEED'\n",
      "(0009, 1002) [Suite id]                          SH: 'CT01'\n",
      "(0009, 1004) [Product id]                        SH: 'LightSpeed Pro'\n",
      "(0009, 1027) [Image actual date]                 SL: 1375266310\n",
      "(0010, 0010) Patient's Name                      PN: 'Doe^Pierre'\n",
      "(0010, 0020) Patient ID                          LO: '54879843'\n",
      "(0010, 0030) Patient's Birth Date                DA: ''\n",
      "(0010, 0040) Patient's Sex                       CS: 'M'\n",
      "(0010, 1010) Patient's Age                       AS: '025Y'\n",
      "(0012, 0062) Patient Identity Removed            CS: 'YES'\n",
      "(0012, 0063) De-identification Method            LO: ['Deidentified', 'Descriptors retained', 'Patient Characteristics retained', 'Device identity removed', 'Institution identity removed', 'Dates modified', 'All private retained', 'UIDs remapped']\n",
      "(0012, 0064)  De-identification Method Code Sequence  6 item(s) ---- \n",
      "   (0008, 0100) Code Value                          SH: '113100'\n",
      "   (0008, 0102) Coding Scheme Designator            SH: 'DCM'\n",
      "   (0008, 0104) Code Meaning                        LO: 'Basic Application Confidentiality Profile'\n",
      "   ---------\n",
      "   (0008, 0100) Code Value                          SH: '210005'\n",
      "   (0008, 0102) Coding Scheme Designator            SH: '99PMP'\n",
      "   (0008, 0104) Code Meaning                        LO: 'Retain all descriptors unchanged'\n",
      "   ---------\n",
      "   (0008, 0100) Code Value                          SH: '113108'\n",
      "   (0008, 0102) Coding Scheme Designator            SH: 'DCM'\n",
      "   (0008, 0104) Code Meaning                        LO: 'Retain Patient Characteristics Option'\n",
      "   ---------\n",
      "   (0008, 0100) Code Value                          SH: '113107'\n",
      "   (0008, 0102) Coding Scheme Designator            SH: 'DCM'\n",
      "   (0008, 0104) Code Meaning                        LO: 'Retain Longitudinal Temporal Information Modified Dates Option'\n",
      "   ---------\n",
      "   (0008, 0100) Code Value                          SH: '210002'\n",
      "   (0008, 0102) Coding Scheme Designator            SH: '99PMP'\n",
      "   (0008, 0104) Code Meaning                        LO: 'Retain all private elements'\n",
      "   ---------\n",
      "   (0008, 0100) Code Value                          SH: '210001'\n",
      "   (0008, 0102) Coding Scheme Designator            SH: '99PMP'\n",
      "   (0008, 0104) Code Meaning                        LO: 'Remap UIDs'\n",
      "   ---------\n",
      "(0018, 0022) Scan Options                        CS: 'SCOUT MODE'\n",
      "(0018, 0050) Slice Thickness                     DS: '250.0'\n",
      "(0018, 0060) KVP                                 DS: '120.0'\n",
      "(0018, 0090) Data Collection Diameter            DS: '500.0'\n",
      "(0018, 1020) Software Versions                   LO: '07MW18.4'\n",
      "(0018, 1030) Protocol Name                       LO: '1.9 Polygone de Willis'\n",
      "(0018, 1100) Reconstruction Diameter             DS: None\n",
      "(0018, 1110) Distance Source to Detector         DS: '949.075012'\n",
      "(0018, 1111) Distance Source to Patient          DS: '541.0'\n",
      "(0018, 1120) Gantry/Detector Tilt                DS: '0.0'\n",
      "(0018, 1130) Table Height                        DS: '202.5'\n",
      "(0018, 1140) Rotation Direction                  CS: 'CW'\n",
      "(0018, 1150) Exposure Time                       IS: '2570'\n",
      "(0018, 1151) X-Ray Tube Current                  IS: '10'\n",
      "(0018, 1152) Exposure                            IS: '25'\n",
      "(0018, 1160) Filter Type                         SH: 'BODY FILTER'\n",
      "(0018, 1170) Generator Power                     IS: '1200'\n",
      "(0018, 1190) Focal Spot(s)                       DS: '1.2'\n",
      "(0018, 1210) Convolution Kernel                  SH: 'STANDARD'\n",
      "(0018, 5100) Patient Position                    CS: 'HFS'\n",
      "(0019, 0010) Private Creator                     LO: 'GEMS_ACQU_01'\n",
      "(0019, 1002) [Detector Channel]                  SL: 912\n",
      "(0019, 1003) [Cell number at Theta]              DS: '389.75'\n",
      "(0019, 1004) [Cell spacing]                      DS: '1.0239'\n",
      "(0019, 100f) [Horiz. Frame of ref.]              DS: '695.5'\n",
      "(0019, 1011) [Series contrast]                   SS: 0\n",
      "(0019, 1018) [First scan ras]                    LO: 'S'\n",
      "(0019, 101a) [Last scan ras]                     LO: 'I'\n",
      "(0019, 1023) [Table Speed [mm/rotation]]         DS: '0.0'\n",
      "(0019, 1024) [Mid Scan Time [sec]]               DS: '0.0'\n",
      "(0019, 1025) [Mid scan flag]                     SS: 0\n",
      "(0019, 1026) [Tube Azimuth [degree]]             SL: 90\n",
      "(0019, 1027) [Rotation Speed [msec]]             DS: '0.0'\n",
      "(0019, 102c) [Number of triggers]                SL: 2837\n",
      "(0019, 102e) [Angle of first view]               DS: '0.0'\n",
      "(0019, 102f) [Trigger frequency]                 DS: '1100.0'\n",
      "(0019, 1039) [SFOV Type]                         SS: 1024\n",
      "(0019, 1042) [Segment Number]                    SS: 0\n",
      "(0019, 1043) [Total Segments Required]           SS: 0\n",
      "(0019, 1047) [View compression factor]           SS: 6\n",
      "(0019, 1052) [Recon post proc. Flag]             SS: 1\n",
      "(0019, 106a) [Dependent on #views processed]     SS: 2\n",
      "(0020, 000d) Study Instance UID                  UI: 1.3.6.1.4.1.5962.99.1.2786334768.1849416866.1385765836848.3.0\n",
      "(0020, 000e) Series Instance UID                 UI: 1.3.6.1.4.1.5962.99.1.2786334768.1849416866.1385765836848.4.0\n",
      "(0020, 0010) Study ID                            SH: ''\n",
      "(0020, 0011) Series Number                       IS: '1'\n",
      "(0020, 0012) Acquisition Number                  IS: '1'\n",
      "(0020, 0013) Instance Number                     IS: '1'\n",
      "(0020, 0032) Image Position (Patient)            DS: [0.000, 265.000, 150.000]\n",
      "(0020, 0037) Image Orientation (Patient)         DS: [0.000000, -1.000000, 0.000000, 0.000000, 0.000000, -1.000000]\n",
      "(0020, 0052) Frame of Reference UID              UI: 1.3.6.1.4.1.5962.99.1.2786334768.1849416866.1385765836848.5.0\n",
      "(0020, 1040) Position Reference Indicator        LO: 'OM'\n",
      "(0020, 1041) Slice Location                      DS: '150.0'\n",
      "(0021, 0010) Private Creator                     LO: 'GEMS_RELA_01'\n",
      "(0021, 1003) [Series from which Prescribed]      SS: 1\n",
      "(0021, 1035) [Series from which prescribed]      SS: 0\n",
      "(0021, 1036) [Image from which prescribed]       SS: 0\n",
      "(0021, 1091) [Biopsy position]                   SS: 0\n",
      "(0021, 1092) [Biopsy T location]                 FL: 0.0\n",
      "(0021, 1093) [Biopsy ref location]               FL: 0.0\n",
      "(0023, 0010) Private Creator                     LO: 'GEMS_STDY_01'\n",
      "(0023, 1070) [Start time(secs) in first axial]   FD: 0.0\n",
      "(0027, 0010) Private Creator                     LO: 'GEMS_IMAG_01'\n",
      "(0027, 1010) [Scout Type]                        SS: 2\n",
      "(0027, 101c) [Vma mamp]                          SL: 0\n",
      "(0027, 101e) [Vma mod]                           SL: 0\n",
      "(0027, 101f) [Vma clip]                          SL: 0\n",
      "(0027, 1020) [Smart scan ON/OFF flag]            SS: 0\n",
      "(0027, 1035) [Plane Type]                        SS: 1\n",
      "(0027, 1042) [Center R coord of plane image]     FL: 0.0\n",
      "(0027, 1043) [Center A coord of plane image]     FL: 0.0\n",
      "(0027, 1044) [Center S coord of plane image]     FL: 25.090909957885742\n",
      "(0027, 1045) [Normal R coord]                    FL: 1.0\n",
      "(0027, 1046) [Normal A coord]                    FL: 1.836909530733566e-16\n",
      "(0027, 1047) [Normal S coord]                    FL: 0.0\n",
      "(0027, 1050) [Scan Start Location]               FL: 150.0\n",
      "(0027, 1051) [Scan End Location]                 FL: -99.81818389892578\n",
      "(0028, 0002) Samples per Pixel                   US: 1\n",
      "(0028, 0004) Photometric Interpretation          CS: 'MONOCHROME2'\n",
      "(0028, 0010) Rows                                US: 458\n",
      "(0028, 0011) Columns                             US: 888\n",
      "(0028, 0030) Pixel Spacing                       DS: [0.545455, 0.596847]\n",
      "(0028, 0100) Bits Allocated                      US: 16\n",
      "(0028, 0101) Bits Stored                         US: 16\n",
      "(0028, 0102) High Bit                            US: 15\n",
      "(0028, 0103) Pixel Representation                US: 1\n",
      "(0028, 1050) Window Center                       DS: '50.0'\n",
      "(0028, 1051) Window Width                        DS: '500.0'\n",
      "(0028, 1052) Rescale Intercept                   DS: '-1024.0'\n",
      "(0028, 1053) Rescale Slope                       DS: '1.0'\n",
      "(0028, 1054) Rescale Type                        LO: 'HU'\n",
      "(0040, 0244) Performed Procedure Step Start Date DA: '20060101'\n",
      "(0040, 0245) Performed Procedure Step Start Time TM: '000000.000'\n",
      "(0040, 0254) Performed Procedure Step Descriptio LO: 'CRANE+POLYGONE'\n",
      "(0043, 0010) Private Creator                     LO: 'GEMS_PARM_01'\n",
      "(0043, 1010) [Window value]                      US: 500\n",
      "(0043, 1012) [X-ray chain]                       SS: [99, 99, 99]\n",
      "(0043, 1016) [Number of overranges]              SS: -1\n",
      "(0043, 101e) [Delta Start Time [msec]]           DS: '0.0'\n",
      "(0043, 101f) [Max overranges in a view]          SL: 0\n",
      "(0043, 1021) [Corrected after glow terms]        SS: 0\n",
      "(0043, 1025) [Reference channels]                SS: [0, 0, 0, 0, 0, 0]\n",
      "(0043, 1026) [No views ref chans blocked]        US: [0, 0, 0, 0]\n",
      "(0043, 1027) [Scan Pitch Ratio]                  SH: ''\n",
      "(0043, 1028) [Unique image iden]                 OB: b'00'\n",
      "(0043, 102b) [Private Scan Options]              SS: [8, 0, 0, 0]\n",
      "(0043, 1031) [Recon Center Coordinates]          DS: [0.000000, 0.000000]\n",
      "(0043, 1040) [Trigger on position]               FL: 88.47200012207031\n",
      "(0043, 1041) [Degree of rotation]                FL: 0.039101749658584595\n",
      "(0043, 1042) [DAS trigger source]                SL: 0\n",
      "(0043, 1043) [DAS fpa gain]                      SL: 0\n",
      "(0043, 1044) [DAS output source]                 SL: 0\n",
      "(0043, 1045) [DAS ad input]                      SL: 0\n",
      "(0043, 1046) [DAS cal mode]                      SL: 0\n",
      "(0043, 104d) [Start scan to X-ray on delay]      FL: 0.0\n",
      "(0043, 104e) [Duration of X-ray on]              FL: 2.5790908336639404\n",
      "(0043, 1064) [Image Filter]                      CS: ''\n",
      "(0045, 0010) Private Creator                     LO: 'GEMS_HELIOS_01'\n",
      "(0045, 1001) [Number of Macro Rows in Detector]  SS: 8\n",
      "(0045, 1002) [Macro width at ISO Center]         FL: 0.625\n",
      "(0045, 1003) [DAS type]                          SS: 14\n",
      "(0045, 1004) [DAS gain]                          SS: 4\n",
      "(0045, 1006) [Table Direction]                   CS: 'INTO GANTRY'\n",
      "(0045, 1007) [Z smoothing Factor]                FL: 0.0\n",
      "(0045, 1008) [View Weighting Mode]               SS: 0\n",
      "(0045, 1009) [Sigma Row number]                  SS: 0\n",
      "(0045, 100a) [Minimum DAS value]                 FL: 0.0\n",
      "(0045, 100b) [Maximum Offset Value]              FL: 0.0\n",
      "(0045, 100c) [Number of Views shifted]           SS: 0\n",
      "(0045, 100d) [Z tracking Flag]                   SS: 0\n",
      "(0045, 100e) [Mean Z error]                      FL: 0.0\n",
      "(0045, 100f) [Z tracking Error]                  FL: 0.0\n",
      "(0045, 1010) [Start View 2A]                     SS: 0\n",
      "(0045, 1011) [Number of Views 2A]                SS: 0\n",
      "(0045, 1012) [Start View 1A]                     SS: 0\n",
      "(0045, 1013) [Sigma Mode]                        SS: 0\n",
      "(0045, 1014) [Number of Views 1A]                SS: 0\n",
      "(0045, 1015) [Start View 2B]                     SS: 0\n",
      "(0045, 1016) [Number Views 2B]                   SS: 0\n",
      "(0045, 1017) [Start View 1B]                     SS: 0\n",
      "(0045, 1018) [Number of Views 1B]                SS: 0\n",
      "(0045, 1021) [Iterbone Flag]                     SS: 0\n",
      "(0045, 1022) [Perisstaltic Flag]                 SS: 0\n",
      "(0045, 1032) [TemporalResolution]                FL: 2.570909023284912\n",
      "(0045, 103b) [NoiseReductionImageFilterDesc]     LO: ''\n",
      "(7fe0, 0010) Pixel Data                          OW: Array of 813408 elements\n"
     ]
    }
   ],
   "source": [
    "#full DICOM dataset\n",
    "print(dcm_file)\n"
   ]
  },
  {
   "cell_type": "code",
   "execution_count": 6,
   "id": "a338bd75",
   "metadata": {},
   "outputs": [
    {
     "name": "stdout",
     "output_type": "stream",
     "text": [
      "CT\n"
     ]
    }
   ],
   "source": [
    "print(dcm_file.Modality)"
   ]
  },
  {
   "cell_type": "code",
   "execution_count": 7,
   "id": "eed47a17",
   "metadata": {},
   "outputs": [],
   "source": [
    "from PIL import Image"
   ]
  },
  {
   "cell_type": "code",
   "execution_count": 8,
   "id": "1e29dc48",
   "metadata": {},
   "outputs": [],
   "source": [
    "pixel_array = dcm_file.pixel_array"
   ]
  },
  {
   "cell_type": "code",
   "execution_count": 9,
   "id": "914028df",
   "metadata": {},
   "outputs": [],
   "source": [
    "# Normalize the pixel values using the rescale slope and intercept\n",
    "rescale_slope = dcm_file.RescaleSlope\n",
    "rescale_intercept = dcm_file.RescaleIntercept\n",
    "pixel_array = pixel_array * rescale_slope + rescale_intercept"
   ]
  },
  {
   "cell_type": "code",
   "execution_count": 10,
   "id": "19cb7e95",
   "metadata": {},
   "outputs": [],
   "source": [
    "import numpy as np"
   ]
  },
  {
   "cell_type": "code",
   "execution_count": 11,
   "id": "9319c8aa",
   "metadata": {},
   "outputs": [],
   "source": [
    "# Normalize the pixel values to 0-255 range\n",
    "pixel_array = (pixel_array - np.min(pixel_array)) / (np.max(pixel_array) - np.min(pixel_array)) * 255"
   ]
  },
  {
   "cell_type": "code",
   "execution_count": 12,
   "id": "1edc29cb",
   "metadata": {},
   "outputs": [],
   "source": [
    "# Match the image orientation and pixel spacing to a standard image\n",
    "image_position_patient = dcm_file.ImagePositionPatient\n",
    "image_orientation_patient = dcm_file.ImageOrientationPatient\n",
    "pixel_spacing = dcm_file.PixelSpacing\n",
    "row_cosine = np.array(image_orientation_patient[0:3])\n",
    "column_cosine = np.array(image_orientation_patient[3:6])\n",
    "image_center = np.array(image_position_patient)\n",
    "row_spacing, column_spacing = pixel_spacing\n",
    "x_spacing = np.linalg.norm(row_spacing * row_cosine)\n",
    "y_spacing = np.linalg.norm(column_spacing * column_cosine)\n",
    "z_spacing = np.linalg.norm(pixel_spacing)\n",
    "x_direction = row_cosine * x_spacing\n",
    "y_direction = column_cosine * y_spacing\n",
    "z_direction = np.cross(x_direction, y_direction)\n",
    "transformation_matrix = np.array([x_direction.tolist() + [0],\n",
    "                                  y_direction.tolist() + [0],\n",
    "                                  z_direction.tolist() + [0],\n",
    "                                  image_center.tolist() + [1]])\n",
    "transformation_matrix_inv = np.linalg.inv(transformation_matrix)\n",
    "output_pixel_array = np.zeros((512, 512)) # Replace with desired output shape\n",
    "for i, j in np.ndindex(output_pixel_array.shape):\n",
    "    pixel_coordinates = np.array([i, j, 0, 1])\n",
    "    new_coordinates = transformation_matrix_inv.dot(pixel_coordinates)\n",
    "    x, y, z, _ = new_coordinates\n",
    "    x_index = int(round(x / x_spacing))\n",
    "    y_index = int(round(y / y_spacing))\n",
    "    if x_index < 0 or x_index >= pixel_array.shape[0] or y_index < 0 or y_index >= pixel_array.shape[1]:\n",
    "        continue\n",
    "    output_pixel_array[i, j] = pixel_array[x_index, y_index]\n"
   ]
  },
  {
   "cell_type": "code",
   "execution_count": 13,
   "id": "127c3090",
   "metadata": {},
   "outputs": [],
   "source": [
    "# Convert the pixel array to a PIL Image\n",
    "img = Image.fromarray(pixel_array.astype('uint8'))"
   ]
  },
  {
   "cell_type": "code",
   "execution_count": 14,
   "id": "87b47963",
   "metadata": {},
   "outputs": [],
   "source": [
    "img.save('/Users/aditigoel/Desktop/dip out put image/output.png')"
   ]
  },
  {
   "cell_type": "markdown",
   "id": "613c0ebc",
   "metadata": {},
   "source": [
    "Check Whether Image Enhancement is required or not"
   ]
  },
  {
   "cell_type": "code",
   "execution_count": 15,
   "id": "567f0128",
   "metadata": {},
   "outputs": [],
   "source": [
    "import cv2"
   ]
  },
  {
   "cell_type": "code",
   "execution_count": 16,
   "id": "a8acf901",
   "metadata": {},
   "outputs": [],
   "source": [
    "# Load the converted image\n",
    "img = cv2.imread('/Users/aditigoel/Desktop/dip out put image/output.png')"
   ]
  },
  {
   "cell_type": "code",
   "execution_count": null,
   "id": "965d8b38",
   "metadata": {},
   "outputs": [],
   "source": []
  },
  {
   "cell_type": "code",
   "execution_count": 18,
   "id": "650f954d",
   "metadata": {},
   "outputs": [],
   "source": [
    "# Convert the image to grayscale\n",
    "gray = cv2.cvtColor(img, cv2.COLOR_BGR2GRAY)"
   ]
  },
  {
   "cell_type": "code",
   "execution_count": 19,
   "id": "17f2fb0f",
   "metadata": {},
   "outputs": [],
   "source": [
    "# Perform histogram equalization\n",
    "equalized = cv2.equalizeHist(gray)"
   ]
  },
  {
   "cell_type": "code",
   "execution_count": 28,
   "id": "63e6d680",
   "metadata": {},
   "outputs": [],
   "source": [
    "def calculate_contrast_brightness(img):\n",
    "    gray = cv2.cvtColor(img, cv2.COLOR_BGR2GRAY)\n",
    "    \n",
    "    mean_intensity = np.mean(gray)\n",
    "    std_intensity = np.std(gray)\n",
    "    contrast = std_intensity / mean_intensity\n",
    "    brightness = np.mean(img)\n",
    "    return contrast, brightness"
   ]
  },
  {
   "cell_type": "code",
   "execution_count": 29,
   "id": "9726fdc8",
   "metadata": {},
   "outputs": [],
   "source": [
    "def is_enhancement_required(contrast, brightness):\n",
    "    if contrast < 0.05 or brightness > 200:\n",
    "        return True\n",
    "    else:\n",
    "        return False"
   ]
  },
  {
   "cell_type": "code",
   "execution_count": 32,
   "id": "3073223b",
   "metadata": {},
   "outputs": [
    {
     "name": "stdout",
     "output_type": "stream",
     "text": [
      "Contrast: 0.43\n",
      "Brightness: 144.42\n",
      "Image enhancement is not required\n"
     ]
    }
   ],
   "source": [
    "# Calculate contrast and brightness\n",
    "contrast, brightness = calculate_contrast_brightness(img)\n",
    "print(\"Contrast: {:.2f}\".format(contrast))\n",
    "print(\"Brightness: {:.2f}\".format(brightness))\n",
    "\n",
    "# Determine if enhancement is required\n",
    "if is_enhancement_required(contrast, brightness):\n",
    "    print(\"Image enhancement is required\")\n",
    "else:\n",
    "    print(\"Image enhancement is not required\")\n",
    "\n"
   ]
  },
  {
   "cell_type": "code",
   "execution_count": 33,
   "id": "46093045",
   "metadata": {},
   "outputs": [],
   "source": [
    "# Save the equalized image\n",
    "equalized_img = Image.fromarray(equalized)\n",
    "equalized_img.save('/Users/aditigoel/Desktop/dip out put image/equalized img.png')"
   ]
  },
  {
   "cell_type": "markdown",
   "id": "cc5b7e6d",
   "metadata": {},
   "source": [
    "Applying Image Enhancement "
   ]
  },
  {
   "cell_type": "markdown",
   "id": "956f898c",
   "metadata": {},
   "source": [
    "Gamma Correction:"
   ]
  },
  {
   "cell_type": "code",
   "execution_count": 34,
   "id": "9c4be600",
   "metadata": {},
   "outputs": [],
   "source": [
    "# Load the equalized image\n",
    "img = cv2.imread('/Users/aditigoel/Desktop/dip out put image/equalized img.png')"
   ]
  },
  {
   "cell_type": "code",
   "execution_count": 35,
   "id": "1fb1b212",
   "metadata": {},
   "outputs": [],
   "source": [
    "# Define the gamma value\n",
    "gamma = 1.5"
   ]
  },
  {
   "cell_type": "code",
   "execution_count": 36,
   "id": "7faa1e63",
   "metadata": {},
   "outputs": [],
   "source": [
    "# Apply gamma correction\n",
    "gamma_corrected = np.power(img / 255.0, gamma)\n",
    "gamma_corrected = np.uint8(gamma_corrected * 255)"
   ]
  },
  {
   "cell_type": "code",
   "execution_count": 37,
   "id": "ce5ad657",
   "metadata": {},
   "outputs": [],
   "source": [
    "# Compute the contrast and brightness of the gamma-corrected image\n",
    "mean3 = np.mean(gamma_corrected)\n",
    "std3 = np.std(gamma_corrected)\n",
    "contrast2 = std3 / std2\n",
    "brightness2 = mean3 - mean2"
   ]
  },
  {
   "cell_type": "code",
   "execution_count": 38,
   "id": "287f8c0d",
   "metadata": {},
   "outputs": [
    {
     "name": "stdout",
     "output_type": "stream",
     "text": [
      "Contrast: 1.10\n",
      "Brightness: -28.58\n"
     ]
    }
   ],
   "source": [
    "# Print the contrast and brightness values\n",
    "print(f'Contrast: {contrast2:.2f}')\n",
    "print(f'Brightness: {brightness2:.2f}')"
   ]
  },
  {
   "cell_type": "code",
   "execution_count": 39,
   "id": "068b5bfc",
   "metadata": {},
   "outputs": [],
   "source": [
    "# Save the gamma-corrected image\n",
    "gamma_corrected_img = Image.fromarray(gamma_corrected)\n",
    "gamma_corrected_img.save('/Users/aditigoel/Desktop/dip out put image/gamma15.png')"
   ]
  },
  {
   "cell_type": "markdown",
   "id": "8d65cb5c",
   "metadata": {},
   "source": [
    "Local Contrast Enhancement:"
   ]
  },
  {
   "cell_type": "code",
   "execution_count": 40,
   "id": "53e3aaa7",
   "metadata": {},
   "outputs": [],
   "source": [
    "# Load the equalized image\n",
    "img = cv2.imread('/Users/aditigoel/Desktop/dip out put image/gamma15.png')"
   ]
  },
  {
   "cell_type": "code",
   "execution_count": 41,
   "id": "f2a83699",
   "metadata": {},
   "outputs": [],
   "source": [
    "# Convert the image to grayscale\n",
    "gray = cv2.cvtColor(img, cv2.COLOR_BGR2GRAY)"
   ]
  },
  {
   "cell_type": "code",
   "execution_count": 42,
   "id": "9cbd4e44",
   "metadata": {},
   "outputs": [],
   "source": [
    "# Apply local contrast enhancement\n",
    "clahe = cv2.createCLAHE(clipLimit=2.0, tileGridSize=(8, 8))\n",
    "clahe_img = clahe.apply(gray)\n"
   ]
  },
  {
   "cell_type": "code",
   "execution_count": 43,
   "id": "83389589",
   "metadata": {},
   "outputs": [],
   "source": [
    "# Compute the contrast and brightness of the CLAHE-enhanced image\n",
    "mean4 = np.mean(clahe_img)\n",
    "std4 = np.std(clahe_img)\n",
    "contrast3 = std4 / std2\n",
    "brightness3 = mean4 - mean2"
   ]
  },
  {
   "cell_type": "code",
   "execution_count": 44,
   "id": "105f8061",
   "metadata": {},
   "outputs": [
    {
     "name": "stdout",
     "output_type": "stream",
     "text": [
      "Contrast: 1.05\n",
      "Brightness: -32.92\n"
     ]
    }
   ],
   "source": [
    "# Print the contrast and brightness values\n",
    "print(f'Contrast: {contrast3:.2f}')\n",
    "print(f'Brightness: {brightness3:.2f}')"
   ]
  },
  {
   "cell_type": "code",
   "execution_count": 45,
   "id": "86ea5fc6",
   "metadata": {},
   "outputs": [],
   "source": [
    "# Save the CLAHE-enhanced image\n",
    "clahe_img = Image.fromarray(clahe_img)\n",
    "clahe_img.save('/Users/aditigoel/Desktop/dip out put image/claheimg.png')"
   ]
  },
  {
   "cell_type": "markdown",
   "id": "0022ad13",
   "metadata": {},
   "source": [
    "Applied local contrast enhancement using the Contrast Limited Adaptive Histogram Equalization (CLAHE) algorithm with a clip limit of 2.0 and a tile size of 8x8. "
   ]
  },
  {
   "cell_type": "code",
   "execution_count": 46,
   "id": "ce7ce201",
   "metadata": {},
   "outputs": [],
   "source": [
    "# Load the enhanced image\n",
    "enhanced_img = Image.open('/Users/aditigoel/Desktop/dip out put image/claheimg.png')"
   ]
  },
  {
   "cell_type": "code",
   "execution_count": 47,
   "id": "6b29d042",
   "metadata": {},
   "outputs": [],
   "source": [
    "# Convert the image to a numpy array\n",
    "enhanced_array = np.array(enhanced_img)"
   ]
  },
  {
   "cell_type": "code",
   "execution_count": 48,
   "id": "4e34ce26",
   "metadata": {},
   "outputs": [],
   "source": [
    "# Create a DICOM file with appropriate header information\n",
    "ds = pydicom.dcmread('/Users/aditigoel/Downloads/54879843/DICOM/Doe^Pierre [54879843]/20060101 000000 [ - CRANE POLYGONE]/Series 001 [CT - Scout Profil]/image1.dcm')"
   ]
  },
  {
   "cell_type": "code",
   "execution_count": 49,
   "id": "6337623e",
   "metadata": {},
   "outputs": [],
   "source": [
    "# Set the pixel data to the enhanced image data\n",
    "ds.PixelData = enhanced_array.tobytes()"
   ]
  },
  {
   "cell_type": "code",
   "execution_count": 50,
   "id": "6a5a4d5f",
   "metadata": {},
   "outputs": [],
   "source": [
    "# Set the image dimensions and other header fields\n",
    "ds.Rows, ds.Columns = enhanced_array.shape"
   ]
  },
  {
   "cell_type": "code",
   "execution_count": 51,
   "id": "6a5ee542",
   "metadata": {},
   "outputs": [],
   "source": [
    "ds.BitsAllocated = 8\n",
    "ds.BitsStored = 8\n",
    "ds.HighBit = 7\n",
    "ds.PixelRepresentation = 0\n",
    "ds.SamplesPerPixel = 1\n",
    "ds.PhotometricInterpretation = \"MONOCHROME2\"\n",
    "ds.Modality = \"CT\"\n",
    "ds.PatientID = \"12345\"\n",
    "ds.SeriesInstanceUID = \"1.2.3.4.5\"\n",
    "ds.StudyInstanceUID = \"1.2.3.4.5.6\"\n",
    "ds.ImagePositionPatient = [0, 0, 0]\n",
    "ds.ImageOrientationPatient = [1, 0, 0, 0, 1, 0]\n",
    "ds.SliceThickness = 1.0\n",
    "ds.PixelSpacing = [1.0, 1.0]\n"
   ]
  },
  {
   "cell_type": "code",
   "execution_count": 54,
   "id": "782c6df0",
   "metadata": {},
   "outputs": [],
   "source": [
    "# Save the DICOM file\n",
    "pydicom.dcmwrite('/Users/aditigoel/Desktop/dip out put image/enhanced_dicom.dcm', ds)"
   ]
  },
  {
   "cell_type": "code",
   "execution_count": 53,
   "id": "f8cd96f9",
   "metadata": {},
   "outputs": [],
   "source": []
  },
  {
   "cell_type": "code",
   "execution_count": null,
   "id": "57addac9",
   "metadata": {},
   "outputs": [],
   "source": []
  }
 ],
 "metadata": {
  "kernelspec": {
   "display_name": "Python 3 (ipykernel)",
   "language": "python",
   "name": "python3"
  },
  "language_info": {
   "codemirror_mode": {
    "name": "ipython",
    "version": 3
   },
   "file_extension": ".py",
   "mimetype": "text/x-python",
   "name": "python",
   "nbconvert_exporter": "python",
   "pygments_lexer": "ipython3",
   "version": "3.9.7"
  }
 },
 "nbformat": 4,
 "nbformat_minor": 5
}
